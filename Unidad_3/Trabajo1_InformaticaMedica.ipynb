{
 "cells": [
  {
   "cell_type": "markdown",
   "metadata": {},
   "source": [
    "<p align=\"center\"><img alt=\"udeA logo\" height=\"150px\" src=\"https://github.com/freddyduitama/images/blob/master/logo.png?raw=true\"></p><h1><font color='0B5345'> <center>\n",
    "\n",
    "Informática II\n",
    "\n",
    " </center></font></h1>\n",
    "<h2><font color='0B5345'> <center>\n",
    "Primer proyecto: Informática médica</center></font></h2>\n",
    "<font  face=\"Courier New\" size=\"3\">\n",
    "\n",
    "<p3><center><b><font color='0B5345' face=\"Lucida Calligraphy,Comic Sans MS,Lucida Console\" size=\"5\">Universidad de Antioquia - Bioingeniería</font></b> </center></p3>"
   ]
  },
  {
   "cell_type": "markdown",
   "metadata": {},
   "source": [
    "**Procesamiento de Imágenes Médicas con Programación Orientada a Objetos**\n",
    "\n",
    "**Descripción:**\n",
    "\n",
    "Este proyecto tiene como objetivo desarrollar una aplicación para el procesamiento de imágenes médicas en formato DICOM y NIfTI, utilizando programación orientada a objetos. La aplicación realizará las siguientes tareas:\n",
    "\n",
    "1. **Cargar y Mostrar Información de Imágenes DICOM:** (20%)\n",
    "   - El programa permitirá al usuario cargar imágenes médicas en formato DICOM desde una carpeta especificada.\n",
    "   - Mostrará la información relevante de cada imagen, incluyendo el nombre del paciente, modalidad, descripción del estudio y fecha de adquisición en formato día, mes y año.\n",
    "\n",
    "2. **Anonimización de Datos Sensibles:** (25%)\n",
    "   - El usuario podrá seleccionar al menos cuatro datos sensibles (por ejemplo, nombre del paciente, ID, fecha de nacimiento, etc.) que serán anonimizados.\n",
    "   - Se implementará un proceso de anonimización para todos los datos seleccionados en todas las imágenes de la carpeta.\n",
    "   - Las nuevas imágenes anonimizadas se guardarán en una carpeta designada.\n",
    "\n",
    "3. **Visualización y Suavizado de Imágenes NIfTI:** (20%)\n",
    "   - El usuario podrá cargar y visualizar una imagen en formato NIfTI, si la tiene en formato dicom la deberá convertir con dcm2nifti.\n",
    "   - Se aplicará un suavizado a la imagen, permitiendo al usuario elegir el valor de umbral.\n",
    "   - Se solicitará al usuario si desea visualizar la imagen suavizada o la original en los tres planos (axial, sagital, coronal) o en un plano específico.\n",
    "\n",
    "4. **Guardado de Imágenes Suavizadas:** (20%)\n",
    "   - La imagen suavizada resultante se guardará en un formato especificado por el usuario.\n",
    "\n",
    "**Requisitos Adicionales:** (15%)\n",
    "- El programa debe estar escrito utilizando programación orientada a objetos (POO), con clases y métodos adecuadamente estructurados.\n",
    "- Se deben implementar mecanismos de manejo de errores y validación de entradas del usuario.\n",
    "- Se debe proporcionar una interfaz de usuario intuitiva para facilitar la interacción.\n",
    "\n",
    "**Entregables:**\n",
    "- Código fuente del programa en Python.\n",
    "- Documentación detallada que incluya instrucciones de uso y explicaciones sobre la implementación.\n",
    "- Código sin documentación no se revisa y la nota final es 0.\n",
    "- Sustentación en video de la implementación realizada, no más de 15 minutos.\n",
    "- Entrega sin video tiene nota final de 0."
   ]
  }
 ],
 "metadata": {
  "language_info": {
   "name": "python"
  }
 },
 "nbformat": 4,
 "nbformat_minor": 2
}
