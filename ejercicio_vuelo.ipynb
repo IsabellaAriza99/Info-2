{
 "cells": [
  {
   "cell_type": "markdown",
   "metadata": {},
   "source": [
    "### Ejemplo: Sistema de gestion de vuelos"
   ]
  },
  {
   "cell_type": "markdown",
   "metadata": {},
   "source": [
    "Se propone la creación de un sistema de reserva de vuelos. Para ello, se plantea el diseño de tres clases esenciales: \"Pasajero\", \"Vuelo\" y \"ReservaVuelos\".\n",
    "\n",
    "En la clase \"Pasajero\", se definen atributos como el nombre, apellido, edad y número de pasaporte. Además, se establece un método para mostrar la información del pasajero.\n",
    "\n",
    "La clase \"Vuelo\" incorpora atributos como el número de vuelo, origen, destino, capacidad total y asientos disponibles. Sus métodos de instancia permiten mostrar la información del vuelo, reservar asientos para pasajeros y cancelar dichas reservas, considerando la disponibilidad de asientos.\n",
    "\n",
    "La clase \"ReservaVuelos\" se encarga de gestionar la lista de vuelos disponibles, uno de sus atributos es el nombre de la aereolina a la que pertenece. Sus métodos incluyen la adición de vuelos a la lista, búsqueda de vuelos por número, presentación de vuelos disponibles, así como la realización y cancelación de reservas, asociando vuelos y pasajeros.\n",
    "\n",
    "El sistema también debe aplicar validaciones en los métodos para garantizar la exactitud de los datos ingresados y evitar reservas en exceso de la capacidad de asientos. En resumen, el sistema permite la administración integral de vuelos, reservas y pasajeros, asegurando la coherencia y la correcta gestión de información."
   ]
  },
  {
   "cell_type": "code",
   "execution_count": 81,
   "metadata": {},
   "outputs": [],
   "source": [
    "class Pasajero:\n",
    "    def __init__(self, nombre, apellido, edad, pasaporte):\n",
    "        self.nombre=nombre\n",
    "        self.apellido=apellido\n",
    "        self.edad=edad\n",
    "        self.pasaporte=pasaporte\n",
    "    \n",
    "    def mostrarInformacion(self):\n",
    "        print(f\"El pasajero es: {self.nombre} {self.apellido}\")"
   ]
  },
  {
   "cell_type": "code",
   "execution_count": 82,
   "metadata": {},
   "outputs": [],
   "source": [
    "class Vuelo:\n",
    "    def __init__(self,numero,origen,destino,cantidad):\n",
    "        self.numeroVuelo=numero\n",
    "        self._origen=origen\n",
    "        self._destino=destino\n",
    "        self.cantidad=cantidad\n",
    "        self.asientosDisponibles=cantidad\n",
    "        self.reservas=[]\n",
    "        reservaVuelos.adicionVuelo(self) #Relación de dependencia\n",
    "\n",
    "    def mostrarInformacion(self):\n",
    "        print(f\"El vuelo número: {self.numeroVuelo} de {self._origen}/{self._destino} tiene {self.asientosDisponibles} asientos disponibles de {self.cantidad} \")\n",
    "\n",
    "    def reservaAsiento(self,pasajero): ##Relación de asociación\n",
    "        if pasajero in self.reservas:\n",
    "            print(f\"El usuario {pasajero.nombre} ya tiene una reserva en este vuelo\")\n",
    "        elif self.asientosDisponibles > 0:\n",
    "            self.reservas.append(pasajero)\n",
    "            self.asientosDisponibles-=1\n",
    "            print(f\"El usuario {pasajero.nombre} realizó una reserva\")\n",
    "        else:\n",
    "            print(\"No hay asientos disponibles\")\n",
    "    def removerAsiento(self,pasajero): ##Relación de asociación\n",
    "        if pasajero in self.reservas:\n",
    "            self.reservas.remove(pasajero)\n",
    "            self.asientosDisponibles+=1\n",
    "            print(f\"El pasajero {pasajero.nombre} ha cancelado su reverva del vuelo {self.numeroVuelo}\")\n",
    "        else:\n",
    "            print(f\"El pasajero {pasajero.nombre} con pasaporte {pasajero.pasaporte} no tiene una reserva en el vuelo {self.numeroVuelo}\")\n",
    "\n",
    "\n",
    "class reservaVuelos:\n",
    "    vuelos=[]\n",
    "    def __init__(self,aereolinea):\n",
    "        self.aereolinea=aereolinea\n",
    "    @classmethod\n",
    "    def adicionVuelo(cls,vuelo):\n",
    "        if vuelo in cls.vuelos:\n",
    "            print(f\"El vuelo {vuelo.numeroVuelo} ya se ha agregado\")\n",
    "        else:\n",
    "            cls.vuelos.append(vuelo)\n",
    "            print(\"Vuelo añadido\")\n",
    "\n",
    "    def busquedaVuelo(self,numero):\n",
    "        for i in reservaVuelos.vuelos:\n",
    "            if i.numeroVuelo==numero:\n",
    "                return i.mostrarInformacion()\n",
    "                \n",
    "    def vuelosDisponibles(self):\n",
    "        for j in reservaVuelos.vuelos:\n",
    "            print(j.mostrarInformacion())\n",
    "\n",
    "    def realizarReseva(self, pasajero,vuelo):\n",
    "        return vuelo.reservaAsiento(pasajero)\n",
    "\n",
    "    def cancelarReseva(self, pasajero,vuelo):\n",
    "        return vuelo.removerAsiento(pasajero)"
   ]
  },
  {
   "cell_type": "code",
   "execution_count": 83,
   "metadata": {},
   "outputs": [],
   "source": [
    "pasajero1=Pasajero(\"Isa\",\"Ariza\",24,\"PA20989\")"
   ]
  },
  {
   "cell_type": "code",
   "execution_count": 84,
   "metadata": {},
   "outputs": [
    {
     "name": "stdout",
     "output_type": "stream",
     "text": [
      "Vuelo añadido\n"
     ]
    }
   ],
   "source": [
    "vuelo1=Vuelo(\"HK123\",\"Medellin\",\"Cartagena\",80)"
   ]
  },
  {
   "cell_type": "code",
   "execution_count": 85,
   "metadata": {},
   "outputs": [
    {
     "name": "stdout",
     "output_type": "stream",
     "text": [
      "Vuelo añadido\n"
     ]
    }
   ],
   "source": [
    "vuelo2=Vuelo(\"HK124\",\"Medellin\",\"Bogota\",32)"
   ]
  },
  {
   "cell_type": "code",
   "execution_count": 86,
   "metadata": {},
   "outputs": [
    {
     "name": "stdout",
     "output_type": "stream",
     "text": [
      "El vuelo número: HK123 de Medellin/Cartagena tiene 80 asientos disponibles de 80 \n"
     ]
    }
   ],
   "source": [
    "vuelo1.mostrarInformacion()"
   ]
  },
  {
   "cell_type": "code",
   "execution_count": 87,
   "metadata": {},
   "outputs": [],
   "source": [
    "pasajero2=Pasajero(\"Juan\",\"Jimenez\",18,\"PA20985\")"
   ]
  },
  {
   "cell_type": "code",
   "execution_count": 88,
   "metadata": {},
   "outputs": [],
   "source": [
    "latam=reservaVuelos(\"Latam\")"
   ]
  },
  {
   "cell_type": "code",
   "execution_count": 89,
   "metadata": {},
   "outputs": [
    {
     "name": "stdout",
     "output_type": "stream",
     "text": [
      "El vuelo número: HK123 de Medellin/Cartagena tiene 80 asientos disponibles de 80 \n"
     ]
    }
   ],
   "source": [
    "latam.busquedaVuelo(\"HK123\")"
   ]
  },
  {
   "cell_type": "code",
   "execution_count": 90,
   "metadata": {},
   "outputs": [
    {
     "name": "stdout",
     "output_type": "stream",
     "text": [
      "El vuelo número: HK123 de Medellin/Cartagena tiene 80 asientos disponibles de 80 \n",
      "None\n",
      "El vuelo número: HK124 de Medellin/Bogota tiene 32 asientos disponibles de 32 \n",
      "None\n"
     ]
    }
   ],
   "source": [
    "latam.vuelosDisponibles()\n"
   ]
  },
  {
   "cell_type": "code",
   "execution_count": 91,
   "metadata": {},
   "outputs": [
    {
     "name": "stdout",
     "output_type": "stream",
     "text": [
      "El usuario Isa realizó una reserva\n"
     ]
    }
   ],
   "source": [
    "latam.realizarReseva(pasajero1,vuelo1)"
   ]
  },
  {
   "cell_type": "code",
   "execution_count": 92,
   "metadata": {},
   "outputs": [
    {
     "name": "stdout",
     "output_type": "stream",
     "text": [
      "El usuario Juan realizó una reserva\n"
     ]
    }
   ],
   "source": [
    "latam.realizarReseva(pasajero2,vuelo1)"
   ]
  },
  {
   "cell_type": "code",
   "execution_count": 93,
   "metadata": {},
   "outputs": [
    {
     "name": "stdout",
     "output_type": "stream",
     "text": [
      "El vuelo número: HK123 de Medellin/Cartagena tiene 78 asientos disponibles de 80 \n",
      "None\n",
      "El vuelo número: HK124 de Medellin/Bogota tiene 32 asientos disponibles de 32 \n",
      "None\n"
     ]
    }
   ],
   "source": [
    "latam.vuelosDisponibles()"
   ]
  },
  {
   "cell_type": "code",
   "execution_count": 94,
   "metadata": {},
   "outputs": [
    {
     "name": "stdout",
     "output_type": "stream",
     "text": [
      "El usuario Juan realizó una reserva\n"
     ]
    }
   ],
   "source": [
    "latam.realizarReseva(pasajero2,vuelo2)"
   ]
  },
  {
   "cell_type": "code",
   "execution_count": 95,
   "metadata": {},
   "outputs": [
    {
     "name": "stdout",
     "output_type": "stream",
     "text": [
      "El vuelo número: HK123 de Medellin/Cartagena tiene 78 asientos disponibles de 80 \n",
      "None\n",
      "El vuelo número: HK124 de Medellin/Bogota tiene 31 asientos disponibles de 32 \n",
      "None\n"
     ]
    }
   ],
   "source": [
    "latam.vuelosDisponibles()"
   ]
  }
 ],
 "metadata": {
  "kernelspec": {
   "display_name": "Python 3",
   "language": "python",
   "name": "python3"
  },
  "language_info": {
   "codemirror_mode": {
    "name": "ipython",
    "version": 3
   },
   "file_extension": ".py",
   "mimetype": "text/x-python",
   "name": "python",
   "nbconvert_exporter": "python",
   "pygments_lexer": "ipython3",
   "version": "3.11.3"
  },
  "orig_nbformat": 4
 },
 "nbformat": 4,
 "nbformat_minor": 2
}
