{
 "cells": [
  {
   "cell_type": "markdown",
   "metadata": {},
   "source": [
    "### Ejemplo: Sistema de gestion de vuelos"
   ]
  },
  {
   "cell_type": "markdown",
   "metadata": {},
   "source": [
    "Se propone la creación de un sistema de reserva de vuelos. Para ello, se plantea el diseño de tres clases esenciales: \"Pasajero\", \"Vuelo\" y \"ReservaVuelos\".\n",
    "\n",
    "En la clase \"Pasajero\", se definen atributos como el nombre, apellido, edad y número de pasaporte. Además, se establecen métodos para inicializar estos atributos y mostrar la información del pasajero.\n",
    "\n",
    "La clase \"Vuelo\" incorpora atributos como el número de vuelo, origen, destino, capacidad total y asientos disponibles. Sus métodos de instancia permiten inicializar los atributos, mostrar la información del vuelo, reservar asientos para pasajeros y cancelar dichas reservas, considerando la disponibilidad de asientos.\n",
    "\n",
    "La clase \"ReservaVuelos\" se encarga de gestionar la lista de vuelos disponibles. Sus métodos incluyen la adición de vuelos a la lista, búsqueda de vuelos por número, presentación de vuelos disponibles, así como la realización y cancelación de reservas, asociando vuelos y pasajeros.\n",
    "\n",
    "El sistema también debe aplicar validaciones en los métodos para garantizar la exactitud de los datos ingresados y evitar reservas en exceso de la capacidad de asientos. En resumen, el sistema permite la administración integral de vuelos, reservas y pasajeros, asegurando la coherencia y la correcta gestión de información."
   ]
  },
  {
   "cell_type": "code",
   "execution_count": 44,
   "metadata": {},
   "outputs": [],
   "source": [
    "#Creamos la clase pasajero\n",
    "class Pasajero:\n",
    "    def __init__(self, nombre, apellido, edad, pasaporte):\n",
    "        self.nombre=nombre\n",
    "        self.apellido=apellido\n",
    "        self.edad=edad\n",
    "        self.pasaporte=pasaporte\n",
    "\n",
    "    #Creamos método para mostrar la información\n",
    "    def mostrarInformación(self):\n",
    "        return f\"Nombre: {self.nombre} {self.apellido}\\nEdad: {self.edad}\\nPasaporte: {self.pasaporte}\"\n",
    "\n",
    "#Creemos la clase vuelo\n",
    "class Vuelo:\n",
    "    def __init__(self,numero,origen,destino,capacidad):\n",
    "        self.numero=numero\n",
    "        self.origen=origen\n",
    "        self.destino=destino\n",
    "        self.capacidad=capacidad\n",
    "        self.asientosDisponibles=capacidad\n",
    "        self.reservas=[]\n",
    "        \n",
    "   #Creamos método para mostrar la informacion\n",
    "    def mostrarInformacion(self):\n",
    "        return f\"Vuelo {self.numero}: {self.origen} - {self.destino}\\nAsientos disponibles: {self.asientosDisponibles}/{self.capacidad}\"\n",
    "    \n",
    "    def reservarAsientos(self,pasajero):\n",
    "        if pasajero in self.reservas:\n",
    "            return \"El pasajero ya tiene un vuelo reservado\"\n",
    "        if self.asientosDisponibles>0:\n",
    "            self.reservas.append(pasajero)\n",
    "            self.asientosDisponibles -=1\n",
    "            return f\"Reseva exitosa para el pasajero {pasajero.nombre} {pasajero.apellido}\"\n",
    "        else:\n",
    "            return \"No hay reservas disponibles en este vuelo\"\n",
    "        \n",
    "    def cancelarReserva(self,pasajero):\n",
    "        if pasajero in self.reservas:\n",
    "            self.reservas.remove(pasajero)\n",
    "            self.asientosDisponibles +=1\n",
    "            return f\"La reseva del pasajero {pasajero.nombre} {pasajero.apellido} ha sido cancelada con exito\"\n",
    "        else:\n",
    "            return f\"El pasajero: {pasajero.nombre} {pasajero.apellido} no tiene un vuelo reservado\"\n",
    "        \n",
    "class reservaVuelos:\n",
    "    def __init__(self):\n",
    "        self.vuelos=[]\n",
    "\n",
    "    def agregarVuelo(self,vuelo):\n",
    "        if vuelo in self.vuelos:\n",
    "            return f\"El vuelo {vuelo.numero} ya había sido agregado\"\n",
    "        else:\n",
    "            self.vuelos.append(vuelo)\n",
    "            return f\"El vuelo {vuelo.numero} ha sido agregado con exito\"\n",
    "        \n",
    "    def buscarVuelo(self,numero):\n",
    "        for vuelo in self.vuelos:\n",
    "            if vuelo.numero==numero:\n",
    "                return vuelo\n",
    "        return None # La identación era el problema\n",
    "\n",
    "    def vuelosDisponibles(self):\n",
    "        for vuelo in self.vuelos:\n",
    "            print(vuelo.mostrarInformacion())\n",
    "            print(\"---------------------------------\")\n",
    "\n",
    "    def realizarReserva(self,pasajero,numero):\n",
    "        vuelo=self.buscarVuelo(numero)\n",
    "        if vuelo:\n",
    "            mensaje= vuelo.reservarAsientos(pasajero)\n",
    "            return mensaje\n",
    "        else:\n",
    "            return f\"El vuelo {numero} no existe\"\n",
    "        \n",
    "    def cancelarReserva(self,pasajero,numero):\n",
    "        vuelo=self.buscarVuelo(numero)\n",
    "        if vuelo:\n",
    "            mensaje= vuelo.cancelarReserva(pasajero)\n",
    "            return mensaje\n",
    "        else:\n",
    "            return f\"El vuelo {numero} no existe\"\n",
    "    "
   ]
  },
  {
   "cell_type": "code",
   "execution_count": 45,
   "metadata": {},
   "outputs": [
    {
     "name": "stdout",
     "output_type": "stream",
     "text": [
      "Nombre: Isabella Ariza\n",
      "Edad: 24\n",
      "Pasaporte: A280tb\n",
      "-----------------------------\n",
      "Nombre: Jorge Peña\n",
      "Edad: 24\n",
      "Pasaporte: A28090\n"
     ]
    }
   ],
   "source": [
    "pasajero=Pasajero(\"Isabella\",\"Ariza\",24,\"A280tb\")\n",
    "print(pasajero.mostrarInformación())\n",
    "pasajero2=Pasajero(\"Jorge\",\"Peña\",24,\"A28090\")\n",
    "print(\"-----------------------------\")\n",
    "print(pasajero2.mostrarInformación())"
   ]
  },
  {
   "cell_type": "code",
   "execution_count": 46,
   "metadata": {},
   "outputs": [],
   "source": [
    "vuelo=Vuelo(\"Hj234\",\"Medellín\",\"Bucaramanga\",35)\n",
    "vuelo1=Vuelo(\"Hj245\",\"Bogota\",\"Bucaramanga\",30)"
   ]
  },
  {
   "cell_type": "code",
   "execution_count": 47,
   "metadata": {},
   "outputs": [
    {
     "name": "stdout",
     "output_type": "stream",
     "text": [
      "Reseva exitosa para el pasajero Isabella Ariza\n",
      "Reseva exitosa para el pasajero Jorge Peña\n"
     ]
    }
   ],
   "source": [
    "print(vuelo.reservarAsientos(pasajero))\n",
    "print(vuelo1.reservarAsientos(pasajero2))"
   ]
  },
  {
   "cell_type": "code",
   "execution_count": 24,
   "metadata": {},
   "outputs": [
    {
     "name": "stdout",
     "output_type": "stream",
     "text": [
      "La reseva del pasajero Isabella Ariza ha sido cancelada con exito\n"
     ]
    }
   ],
   "source": [
    "print(vuelo.cancelarReserva(pasajero))"
   ]
  },
  {
   "cell_type": "code",
   "execution_count": 48,
   "metadata": {},
   "outputs": [],
   "source": [
    "reservas=reservaVuelos()"
   ]
  },
  {
   "cell_type": "code",
   "execution_count": 49,
   "metadata": {},
   "outputs": [
    {
     "data": {
      "text/plain": [
       "'El vuelo Hj245 ha sido agregado con exito'"
      ]
     },
     "execution_count": 49,
     "metadata": {},
     "output_type": "execute_result"
    }
   ],
   "source": [
    "reservas.agregarVuelo(vuelo)\n",
    "reservas.agregarVuelo(vuelo1)"
   ]
  },
  {
   "cell_type": "code",
   "execution_count": 50,
   "metadata": {},
   "outputs": [
    {
     "name": "stdout",
     "output_type": "stream",
     "text": [
      "Vuelo Hj234: Medellín - Bucaramanga\n",
      "Asientos disponibles: 34/35\n",
      "---------------------------------\n",
      "Vuelo Hj245: Bogota - Bucaramanga\n",
      "Asientos disponibles: 29/30\n",
      "---------------------------------\n"
     ]
    }
   ],
   "source": [
    "reservas.vuelosDisponibles()"
   ]
  },
  {
   "cell_type": "code",
   "execution_count": 51,
   "metadata": {},
   "outputs": [
    {
     "data": {
      "text/plain": [
       "<__main__.Vuelo at 0x1f1b5323d30>"
      ]
     },
     "execution_count": 51,
     "metadata": {},
     "output_type": "execute_result"
    }
   ],
   "source": [
    "reservas.buscarVuelo(\"Hj234\")"
   ]
  },
  {
   "cell_type": "code",
   "execution_count": 54,
   "metadata": {},
   "outputs": [
    {
     "data": {
      "text/plain": [
       "'Reseva exitosa para el pasajero Jorge Peña'"
      ]
     },
     "execution_count": 54,
     "metadata": {},
     "output_type": "execute_result"
    }
   ],
   "source": [
    "reservas.realizarReserva(pasajero2, \"Hj234\")"
   ]
  },
  {
   "cell_type": "code",
   "execution_count": 55,
   "metadata": {},
   "outputs": [
    {
     "data": {
      "text/plain": [
       "'La reseva del pasajero Jorge Peña ha sido cancelada con exito'"
      ]
     },
     "execution_count": 55,
     "metadata": {},
     "output_type": "execute_result"
    }
   ],
   "source": [
    "reservas.cancelarReserva(pasajero2,\"Hj234\")"
   ]
  }
 ],
 "metadata": {
  "kernelspec": {
   "display_name": "Python 3",
   "language": "python",
   "name": "python3"
  },
  "language_info": {
   "codemirror_mode": {
    "name": "ipython",
    "version": 3
   },
   "file_extension": ".py",
   "mimetype": "text/x-python",
   "name": "python",
   "nbconvert_exporter": "python",
   "pygments_lexer": "ipython3",
   "version": "3.10.7"
  },
  "orig_nbformat": 4
 },
 "nbformat": 4,
 "nbformat_minor": 2
}
