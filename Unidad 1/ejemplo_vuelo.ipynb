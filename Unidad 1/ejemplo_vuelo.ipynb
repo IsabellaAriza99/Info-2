{
 "cells": [
  {
   "cell_type": "markdown",
   "metadata": {},
   "source": [
    "### Ejemplo: Sistema de gestion de vuelos"
   ]
  },
  {
   "cell_type": "markdown",
   "metadata": {},
   "source": [
    "Se propone la creación de un sistema de reserva de vuelos. Para ello, se plantea el diseño de tres clases esenciales: \"Pasajero\", \"Vuelo\" y \"ReservaVuelos\".\n",
    "\n",
    "En la clase \"Pasajero\", se definen atributos como el nombre, apellido, edad y número de pasaporte. Además, se establecen métodos para inicializar estos atributos y mostrar la información del pasajero.\n",
    "\n",
    "La clase \"Vuelo\" incorpora atributos como el número de vuelo, origen, destino, capacidad total y asientos disponibles. Sus métodos de instancia permiten inicializar los atributos, mostrar la información del vuelo, reservar asientos para pasajeros y cancelar dichas reservas, considerando la disponibilidad de asientos.\n",
    "\n",
    "La clase \"ReservaVuelos\" se encarga de gestionar la lista de vuelos disponibles. Sus métodos incluyen la adición de vuelos a la lista, búsqueda de vuelos por número, presentación de vuelos disponibles, así como la realización y cancelación de reservas, asociando vuelos y pasajeros.\n",
    "\n",
    "El sistema también debe aplicar validaciones en los métodos para garantizar la exactitud de los datos ingresados y evitar reservas en exceso de la capacidad de asientos. En resumen, el sistema permite la administración integral de vuelos, reservas y pasajeros, asegurando la coherencia y la correcta gestión de información."
   ]
  },
  {
   "cell_type": "code",
   "execution_count": 1,
   "metadata": {},
   "outputs": [],
   "source": [
    "#Creamos la clase pasajero\n",
    "class Pasajero:\n",
    "    def __init__(self, nombre, apellido, edad, pasaporte):\n",
    "        self.nombre=nombre\n",
    "        self.apellido=apellido\n",
    "        self.edad=edad\n",
    "        self.pasaporte=pasaporte\n",
    "\n",
    "    #Creamos método para mostrar la información\n",
    "    def mostrarInformación(self):\n",
    "        return f\"Nombre: {self.nombre} {self.apellido}\\nEdad: {self.edad}\\nPasaporte: {self.pasaporte}\"\n",
    "\n",
    "#Creemos la clase vuelo\n",
    "class Vuelo:\n",
    "    def __init__(self,numero,origen,destino,capacidad):\n",
    "        self.numero=numero\n",
    "        self.origen=origen\n",
    "        self.destino=destino\n",
    "        self.capacidad=capacidad\n",
    "        self.asientosDisponibles=capacidad\n",
    "        self.reservas=[]\n",
    "        \n",
    "   #Creamos método para mostrar la informacion\n",
    "    def mostrarInformacion(self):\n",
    "        return f\"Vuelo {self.numero}: {self.origen} - {self.destino}\\nAsientos disponibles: {self.asientosDisponibles}/{self.capacidad}\"\n",
    "    \n",
    "    def reservarAsientos(self,pasajero):\n",
    "        if pasajero in self.reservas:\n",
    "            return \"El pasajero ya tiene un vuelo reservado\"\n",
    "        if self.asientosDisponibles>0:\n",
    "            self.reservas.append(pasajero)\n",
    "            self.asientosDisponibles -=1\n",
    "            return f\"Reseva exitosa para el pasajero {pasajero.nombre} {pasajero.apellido}\"\n",
    "        else:\n",
    "            return \"No hay reservas disponibles en este vuelo\"\n",
    "    "
   ]
  },
  {
   "cell_type": "code",
   "execution_count": 192,
   "metadata": {},
   "outputs": [
    {
     "name": "stdout",
     "output_type": "stream",
     "text": [
      "Nombre: Isabella Ariza\n",
      "Edad: 24\n",
      "Pasaporte: A280tb\n",
      "-----------------------------\n",
      "Nombre: Jorge Peña\n",
      "Edad: 24\n",
      "Pasaporte: A28090\n"
     ]
    }
   ],
   "source": [
    "pasajero=Pasajero(\"Isabella\",\"Ariza\",24,\"A280tb\")\n",
    "print(pasajero.mostrarInformación())\n",
    "pasajero2=Pasajero(\"Jorge\",\"Peña\",24,\"A28090\")\n",
    "print(\"-----------------------------\")\n",
    "print(pasajero2.mostrarInformación())"
   ]
  },
  {
   "cell_type": "code",
   "execution_count": 193,
   "metadata": {},
   "outputs": [],
   "source": [
    "vuelo=Vuelo(\"Hj234\",\"Medellín\",\"Bucaramanga\",35)\n",
    "vuelo1=Vuelo(\"Hj245\",\"Bogota\",\"Bucaramanga\",30)"
   ]
  },
  {
   "cell_type": "code",
   "execution_count": 195,
   "metadata": {},
   "outputs": [
    {
     "name": "stdout",
     "output_type": "stream",
     "text": [
      "El pasajero ya tiene un vuelo reservado\n",
      "El pasajero ya tiene un vuelo reservado\n"
     ]
    }
   ],
   "source": [
    "print(vuelo.reservarAsientos(pasajero))\n",
    "print(vuelo1.reservarAsientos(pasajero2))"
   ]
  }
 ],
 "metadata": {
  "kernelspec": {
   "display_name": "Python 3",
   "language": "python",
   "name": "python3"
  },
  "language_info": {
   "codemirror_mode": {
    "name": "ipython",
    "version": 3
   },
   "file_extension": ".py",
   "mimetype": "text/x-python",
   "name": "python",
   "nbconvert_exporter": "python",
   "pygments_lexer": "ipython3",
   "version": "3.10.7"
  },
  "orig_nbformat": 4
 },
 "nbformat": 4,
 "nbformat_minor": 2
}
