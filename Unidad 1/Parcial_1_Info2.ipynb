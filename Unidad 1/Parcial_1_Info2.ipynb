{
 "cells": [
  {
   "cell_type": "markdown",
   "metadata": {},
   "source": [
    "\n",
    "\n",
    "### <center>**Parcial 1: Informática II**</center>\n",
    "## <center>Programación orientada a objetos</center>\n",
    "<center> 13 de Septiembre del 2023 </center>\n",
    "\n"
   ]
  },
  {
   "cell_type": "markdown",
   "metadata": {},
   "source": [
    "\n",
    "Nombre: \n",
    "\n",
    "Cédula:"
   ]
  },
  {
   "cell_type": "markdown",
   "metadata": {},
   "source": [
    "Lea detenidamente el siguiente enunciado y a partir de este responda las preguntas:"
   ]
  },
  {
   "cell_type": "markdown",
   "metadata": {},
   "source": [
    "Un grupo de neurociencias desarrolla un software para gestionar los registros electrofisiológicos de pacientes con Parkinson.​\n",
    "\n",
    "1. Cada paciente tiene información de nombre, cédula, genero y visitas​\n",
    "2. Cada visita tiene información de fecha de visita (dd/mm/aaaa), registro electroencefalográfico (que sería una ruta en el computador del tipo: D:\\Mi unidad\\informatica2\\unidad1\\registros ), notas (que es información en texto que ingresa el técnico), e índices.​\n",
    "3. Cada índice tiene información conocida como potencia delta, potencia theta, potencia alfa1, potencia alfa2, potencia beta, potencia gamma. Estos son valores reales.​\n",
    "\n",
    "​Por lo tanto se solicita construir un Sistema que permita: \n",
    "\n",
    "i) Agregar pacientes, indices, y visitas\n",
    "\n",
    "Nota: No deben haber pacientes repetidos, o pacientes con visitas repetidas, ni pacientes con cedulas que no sean numéricas\n",
    "\n",
    "ii) Eliminar un paciente (Puede realizarlo buscando por número de cédula)\n",
    "\n",
    "iii) Mostrar la información de los pacientes\n",
    "\n"
   ]
  },
  {
   "cell_type": "markdown",
   "metadata": {},
   "source": [
    "1. (10%) Mencione los nombre de las clases del software para gestionar los registro electrofisiológicos de pacientes con Parkinson y cada uno de sus atributos y métodos. "
   ]
  },
  {
   "cell_type": "markdown",
   "metadata": {},
   "source": []
  },
  {
   "cell_type": "markdown",
   "metadata": {},
   "source": [
    "2. (10%) Describa las relaciones que se presentan entre las clases.\n",
    "\n",
    "    Nota: Tenga en cuenta las relaciones de herencia, dependencia y asociación"
   ]
  },
  {
   "cell_type": "markdown",
   "metadata": {},
   "source": []
  },
  {
   "cell_type": "markdown",
   "metadata": {},
   "source": [
    "3. (5%) Defina al menos un atributo o método como privado o protegido, y muestre como se simboliza.\n",
    "\n",
    "    Nota: El atributo o método que defina como público o privado debe mantener esta característica en la implementación del código en el punto 5."
   ]
  },
  {
   "cell_type": "markdown",
   "metadata": {},
   "source": []
  },
  {
   "cell_type": "markdown",
   "metadata": {},
   "source": [
    "4. (5%) Describa que es un objeto en python."
   ]
  },
  {
   "cell_type": "markdown",
   "metadata": {},
   "source": []
  },
  {
   "cell_type": "markdown",
   "metadata": {},
   "source": [
    "5. (60%) Implemente en python el código para gestionar los registros electrofisiológicos de pacientes con Parkinson teniendo en cuenta los requerimientos y validaciones solicitadas en el enunciado."
   ]
  },
  {
   "cell_type": "code",
   "execution_count": null,
   "metadata": {},
   "outputs": [],
   "source": []
  },
  {
   "cell_type": "markdown",
   "metadata": {},
   "source": [
    "6. (10%) Describa los pasos a seguir para actualizar su repositorio en github, escriba los comandos en el orden necesario."
   ]
  },
  {
   "cell_type": "markdown",
   "metadata": {},
   "source": []
  },
  {
   "cell_type": "markdown",
   "metadata": {},
   "source": [
    "Muchos exitos!!"
   ]
  }
 ],
 "metadata": {
  "kernelspec": {
   "display_name": "Python 3",
   "language": "python",
   "name": "python3"
  },
  "language_info": {
   "codemirror_mode": {
    "name": "ipython",
    "version": 3
   },
   "file_extension": ".py",
   "mimetype": "text/x-python",
   "name": "python",
   "nbconvert_exporter": "python",
   "pygments_lexer": "ipython3",
   "version": "3.10.7"
  },
  "orig_nbformat": 4
 },
 "nbformat": 4,
 "nbformat_minor": 2
}
