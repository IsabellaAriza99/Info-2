{
 "cells": [
  {
   "cell_type": "markdown",
   "metadata": {},
   "source": [
    "### Ejemplo: Sistema de registro médico"
   ]
  },
  {
   "cell_type": "markdown",
   "metadata": {},
   "source": [
    "Se solicita desarrollar un sistema de registro médico orientado a objetos para administrar información de pacientes y consultas médicas en un hospital. El sistema debe permitir el registro de pacientes y doctores, así como la creación y visualización de consultas médicas."
   ]
  },
  {
   "cell_type": "markdown",
   "metadata": {},
   "source": [
    "##### Clases\n",
    "\n",
    "a. Persona: Clase base que contiene los atributos comunes de una persona, como nombre, edad y género.\n",
    "\n",
    "b. Paciente: Subclase de Persona, que agrega el atributo numero_historia_clinica para identificar a cada paciente. Se debe llevar un registro del total de pacientes en el hospital.\n",
    "\n",
    "c. Doctor: Subclase de Persona, que agrega el atributo especialidad para describir la especialidad del médico.\n",
    "\n",
    "d. Hospital: Clase que almacena el nombre y ubicación del hospital, y mantiene un registro del total de pacientes y la lista de pacientes en el hospital.\n",
    "\n",
    "e. ConsultaMedica: Clase que representa una consulta médica, asociando un doctor y un paciente, y almacenando la fecha de la consulta."
   ]
  },
  {
   "cell_type": "markdown",
   "metadata": {},
   "source": [
    "##### Métodos\n",
    "\n",
    "El sistema debe proporcionar las siguientes funcionalidades:\n",
    "\n",
    "a. Ingresar datos de un paciente nuevo, incluyendo nombre, edad, género y número de historia clínica.\n",
    "\n",
    "b. Ingresar datos de un doctor nuevo, incluyendo nombre, edad, género y especialidad.\n",
    "\n",
    "c. Crear una consulta médica, asociando un doctor y un paciente, y almacenando la fecha de la consulta.\n",
    "\n",
    "d. Mostrar información detallada de una consulta médica, incluyendo los datos del doctor y paciente involucrados.\n",
    "\n",
    "e. Mostrar el total de pacientes registrados en el hospital.\n"
   ]
  },
  {
   "cell_type": "markdown",
   "metadata": {},
   "source": [
    "##### Relaciones\n",
    "\n",
    "a. La clase Persona es la clase padre para las subclases Paciente y Doctor.\n",
    "\n",
    "b. La clase ConsultaMedica asocia objetos de las clases Doctor y Paciente para representar una consulta médica.\n",
    "\n",
    "c. La clase Paciente depende de la clase Hospital para llevar un registro del total de pacientes."
   ]
  },
  {
   "cell_type": "code",
   "execution_count": 92,
   "metadata": {},
   "outputs": [],
   "source": [
    "#Creamos la clase persona\n",
    "class Persona:\n",
    "    #Creamos los atributos de instancia\n",
    "    def __init__(self, nombre, edad, genero):\n",
    "        self.nombre = nombre\n",
    "        self.edad = edad\n",
    "        self.genero = genero    \n",
    "    #Creamos los métodos de instancia\n",
    "    def informacionPersonal(self):\n",
    "        return f\"Nombre: {self.nombre}\\nEdad: {self.edad}\\nGénero: {self.genero}\"\n",
    "\n",
    "#Creamos la clase Paciente que es una subclase de la clase Persona\n",
    "class Paciente(Persona):\n",
    "    #Creamos los atributos de instancia\n",
    "    def __init__(self, nombre, edad, genero, historiaClinica):\n",
    "        super().__init__(nombre, edad, genero)\n",
    "        self.historiaClinica = historiaClinica\n",
    "        #Relación de dependencia con la clase hospital\n",
    "        Hospital.agregarPaciente(self)\n",
    "\n",
    "    #Creamos los métodos de instancia\n",
    "    def informacionPersonal(self):\n",
    "        return f\"Historia Clínica: {self.historiaClinica}\\n\" + super().informacionPersonal()\n",
    "    \n",
    "#Creamos la clase Doctor que es una subclase de la clase Persona\n",
    "class Doctor(Persona):\n",
    "    #Creamos los atributos de instancia\n",
    "    def __init__(self, nombre, edad, genero, especialidad):\n",
    "        super().__init__(nombre, edad, genero)\n",
    "        self.especialidad = especialidad\n",
    "\n",
    "    #Creamos los métodos de instancia\n",
    "    def informacionPersonal(self):\n",
    "        return f\"Especialidad: {self.especialidad}\\n\" + super().informacionPersonal()\n",
    "    \n",
    "#Creamos la clase consultaMedica\n",
    "class ConsultaMedica:\n",
    "    #Creamos los atributos de instancia\n",
    "    def __init__(self, doctor, paciente, fecha): #Recibe los objetos doctor y paciente (Relación de asociación)\n",
    "        self.doctor = doctor\n",
    "        self.paciente = paciente\n",
    "        self.fecha = fecha\n",
    "    #Creamos los métodos de instancia\n",
    "    def informacionConsulta(self):\n",
    "        return f\"Fecha: {self.fecha}\\nDoctor:\\n{self.doctor.informacionPersonal()}\\nPaciente:\\n{self.paciente.informacionPersonal()}\"\n",
    "\n",
    "#Creamos la clase Hospital    \n",
    "class Hospital:\n",
    "    #Creamos los atributos de clase\n",
    "    totalPacientes = 0\n",
    "    pacientes = []\n",
    "\n",
    "    #Creamos los atributos de instancia\n",
    "    def __init__(self, nombre, ubicacion):\n",
    "        self.nombre = nombre\n",
    "        self.ubicacion = ubicacion\n",
    "\n",
    "    #Creamos los métodos de clase\n",
    "    @classmethod\n",
    "    def agregarPaciente(cls, paciente):\n",
    "        cls.pacientes.append(paciente)\n",
    "        cls.totalPacientes += 1\n",
    "\n",
    "    @classmethod\n",
    "    def totalGeneral(cls):\n",
    "        return cls.totalPacientes"
   ]
  },
  {
   "cell_type": "code",
   "execution_count": 93,
   "metadata": {},
   "outputs": [],
   "source": [
    "# Crear hospital\n",
    "hospital = Hospital(\"Hospital Central\", \"Medellín\")"
   ]
  },
  {
   "cell_type": "code",
   "execution_count": 96,
   "metadata": {},
   "outputs": [],
   "source": [
    "# Crear objetos\n",
    "paciente1 = Paciente(\"Ana López\", 30, \"Femenino\", \"12345\")\n",
    "doctor1 = Doctor(\"Dr. Martínez\", 45, \"Masculino\", \"Cardiología\")\n",
    "consulta1 = ConsultaMedica(doctor1, paciente1, \"10-08-2023\")\n"
   ]
  },
  {
   "cell_type": "code",
   "execution_count": 97,
   "metadata": {},
   "outputs": [],
   "source": [
    "paciente2 = Paciente(\"Natalia Nuñez\", 20, \"Femenino\", \"12344\")\n",
    "consulta2 = ConsultaMedica(doctor1, paciente2, \"11-08-2023\")"
   ]
  },
  {
   "cell_type": "code",
   "execution_count": 99,
   "metadata": {},
   "outputs": [
    {
     "name": "stdout",
     "output_type": "stream",
     "text": [
      "Información de la Consulta:\n",
      "Fecha: 10-08-2023\n",
      "Doctor:\n",
      "Especialidad: Cardiología\n",
      "Nombre: Dr. Martínez\n",
      "Edad: 45\n",
      "Género: Masculino\n",
      "Paciente:\n",
      "Historia Clínica: 12345\n",
      "Nombre: Ana López\n",
      "Edad: 30\n",
      "Género: Femenino\n"
     ]
    }
   ],
   "source": [
    "# Mostrar información de la consulta\n",
    "print(\"Información de la Consulta:\")\n",
    "print(consulta1.informacionConsulta())\n",
    "\n"
   ]
  },
  {
   "cell_type": "code",
   "execution_count": 100,
   "metadata": {},
   "outputs": [
    {
     "name": "stdout",
     "output_type": "stream",
     "text": [
      "Total de pacientes en el hospital: 5\n"
     ]
    }
   ],
   "source": [
    "# Mostrar total de pacientes en el hospital\n",
    "print(f\"Total de pacientes en el hospital: {hospital.totalGeneral()}\")"
   ]
  }
 ],
 "metadata": {
  "kernelspec": {
   "display_name": "Python 3",
   "language": "python",
   "name": "python3"
  },
  "language_info": {
   "codemirror_mode": {
    "name": "ipython",
    "version": 3
   },
   "file_extension": ".py",
   "mimetype": "text/x-python",
   "name": "python",
   "nbconvert_exporter": "python",
   "pygments_lexer": "ipython3",
   "version": "3.10.7"
  },
  "orig_nbformat": 4
 },
 "nbformat": 4,
 "nbformat_minor": 2
}
