{
 "cells": [
  {
   "cell_type": "markdown",
   "metadata": {},
   "source": [
    "# Programación orientada a objetos\n",
    "### Creemos una clase"
   ]
  },
  {
   "cell_type": "code",
   "execution_count": 12,
   "metadata": {},
   "outputs": [],
   "source": [
    "#Creemos la clase\n",
    "class Info2:\n",
    "  x = \"Mi primera clase\""
   ]
  },
  {
   "cell_type": "code",
   "execution_count": 13,
   "metadata": {},
   "outputs": [
    {
     "name": "stdout",
     "output_type": "stream",
     "text": [
      "Mi primera clase\n"
     ]
    }
   ],
   "source": [
    "#Creemos el objeto\n",
    "clase1 = Info2()\n",
    "print(clase1.x)"
   ]
  },
  {
   "cell_type": "markdown",
   "metadata": {},
   "source": [
    "## Ejemplo: Clase Persona"
   ]
  },
  {
   "cell_type": "code",
   "execution_count": 35,
   "metadata": {},
   "outputs": [
    {
     "name": "stdout",
     "output_type": "stream",
     "text": [
      "Natalia\n",
      "32\n"
     ]
    }
   ],
   "source": [
    "#Creamos nuestra clase\n",
    "class Persona:\n",
    "  #Definimos nuestros atributos\n",
    "  def __init__(self, nombre, edad):\n",
    "    self.nombre = nombre\n",
    "    self.edad = edad\n",
    "\n",
    "#Creamos un objeto\n",
    "p1 = Persona(\"Natalia\", 32)\n",
    "\n",
    "print(p1.nombre)\n",
    "print(p1.edad)"
   ]
  },
  {
   "cell_type": "code",
   "execution_count": 36,
   "metadata": {},
   "outputs": [
    {
     "name": "stdout",
     "output_type": "stream",
     "text": [
      "Hola mi nombre es Natalia y tengo 32 años\n"
     ]
    }
   ],
   "source": [
    "class Persona:\n",
    "  def __init__(self, nombre, edad):\n",
    "    self.nombre = nombre\n",
    "    self.edad = edad\n",
    "  \n",
    "  def funcion(self):\n",
    "    print(f\"Hola mi nombre es {self.nombre} y tengo {self.edad} años\")\n",
    " \n",
    "persona1 = Persona(\"Natalia\", 32)\n",
    "persona1.funcion()"
   ]
  }
 ],
 "metadata": {
  "kernelspec": {
   "display_name": "Python 3",
   "language": "python",
   "name": "python3"
  },
  "language_info": {
   "codemirror_mode": {
    "name": "ipython",
    "version": 3
   },
   "file_extension": ".py",
   "mimetype": "text/x-python",
   "name": "python",
   "nbconvert_exporter": "python",
   "pygments_lexer": "ipython3",
   "version": "3.10.7"
  },
  "orig_nbformat": 4
 },
 "nbformat": 4,
 "nbformat_minor": 2
}
