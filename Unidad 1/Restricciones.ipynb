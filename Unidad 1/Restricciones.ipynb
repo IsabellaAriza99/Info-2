{
 "cells": [
  {
   "cell_type": "markdown",
   "metadata": {},
   "source": [
    "### AÑADAMOS RESTRICCIONES\n",
    "\n",
    "1. Al ingresar un paciente se debe verificar que no exista otro paciente con el mismo numero de historia clínica. \n",
    "\n",
    "2. El servicio de registro médico solo admite 10 pacientes al tiempo.\n",
    "\n",
    "3. Al ingresar un paciente o un doctor se debe verificar que la edad sea un número."
   ]
  },
  {
   "cell_type": "code",
   "execution_count": 1,
   "metadata": {},
   "outputs": [],
   "source": [
    "#Creamos la clase persona\n",
    "class Persona:\n",
    "    #Creamos los atributos de instancia\n",
    "    def __init__(self, nombre, edad, genero):\n",
    "        self.nombre = nombre\n",
    "        self.edad = edad\n",
    "        self.genero = genero    \n",
    "    #Creamos los métodos de instancia\n",
    "    def informacionPersonal(self):\n",
    "        return f\"Nombre: {self.nombre}\\nEdad: {self.edad}\\nGénero: {self.genero}\"\n",
    "\n",
    "#Creamos la clase Paciente que es una subclase de la clase Persona\n",
    "class Paciente(Persona):\n",
    "    #Creamos los atributos de instancia\n",
    "    def __init__(self, nombre, edad, genero, historiaClinica):\n",
    "        super().__init__(nombre, edad, genero)\n",
    "        self.historiaClinica = historiaClinica\n",
    "        #Relación de dependencia con la clase hospital\n",
    "        Hospital.agregarPaciente(self)\n",
    "\n",
    "    #Creamos los métodos de instancia\n",
    "    def informacionPersonal(self):\n",
    "        return super().informacionPersonal() + f\"\\nHistoria Clínica: {self.historiaClinica}\"\n",
    "    \n",
    "#Creamos la clase Doctor que es una subclase de la clase Persona\n",
    "class Doctor(Persona):\n",
    "    #Creamos los atributos de instancia\n",
    "    def __init__(self, nombre, edad, genero, especialidad):\n",
    "        super().__init__(nombre, edad, genero)\n",
    "        self.especialidad = especialidad\n",
    "\n",
    "    #Creamos los métodos de instancia\n",
    "    def informacionPersonal(self):\n",
    "        return f\"Especialidad: {self.especialidad}\\n\" + super().informacionPersonal()\n",
    "    \n",
    "#Creamos la clase consultaMedica\n",
    "class ConsultaMedica:\n",
    "    #Creamos los atributos de instancia\n",
    "    def __init__(self, doctor, paciente, fecha): #Recibe los objetos doctor y paciente (Relación de asociación)\n",
    "        self.doctor = doctor\n",
    "        self.paciente = paciente\n",
    "        self.fecha = fecha\n",
    "    #Creamos los métodos de instancia\n",
    "    def informacionConsulta(self):\n",
    "        return f\"Fecha: {self.fecha}\\nDoctor:\\n{self.doctor.informacionPersonal()}\\nPaciente:\\n{self.paciente.informacionPersonal()}\"\n",
    "\n",
    "#Creamos la clase Hospital    \n",
    "class Hospital:\n",
    "    #Creamos los atributos de clase\n",
    "    totalPacientes = 0\n",
    "    pacientes = []\n",
    "\n",
    "    #Creamos los atributos de instancia\n",
    "    def __init__(self, nombre, ubicacion):\n",
    "        self.nombre = nombre\n",
    "        self.ubicacion = ubicacion\n",
    "\n",
    "    #Creamos los métodos de clase\n",
    "    @classmethod\n",
    "    def agregarPaciente(cls, paciente):\n",
    "        if cls.totalPacientes >= 10: #Si la cantidad de pacientes almacenados es mayor o igual a 10\n",
    "            print(\"El hospital ha alcanzado su capacidad máxima de pacientes.\")\n",
    "            return #No agrega más pacientes\n",
    "\n",
    "        for p in cls.pacientes: #Recorremos la lista de pacientes\n",
    "            if p.historiaClinica == paciente.historiaClinica: #Si ya esa historia clínica existe\n",
    "                print(f\"La historia clínica {paciente.historiaClinica} ya existe en el hospital.\")\n",
    "                return #No agrega el paciente\n",
    "        cls.pacientes.append(paciente) #De lo contrario lo agrega\n",
    "        cls.totalPacientes += 1 #Y suma 1 al total de pacientes\n",
    "\n",
    "    @classmethod\n",
    "    def totalGeneral(cls):\n",
    "        return cls.totalPacientes\n",
    "\n",
    "    @classmethod\n",
    "    def imprimirPacientes(cls):\n",
    "        for paciente in cls.pacientes: #Recorremos la lista de pacientes\n",
    "            print(paciente.informacionPersonal())\n",
    "            print(\"------------------\")"
   ]
  },
  {
   "cell_type": "code",
   "execution_count": 2,
   "metadata": {},
   "outputs": [],
   "source": [
    "# Crear hospital\n",
    "hospital1 = Hospital(\"Hospital Central\", \"Medellín\")"
   ]
  },
  {
   "cell_type": "code",
   "execution_count": 3,
   "metadata": {},
   "outputs": [],
   "source": [
    "# Crear objetos\n",
    "paciente1 = Paciente(\"Ana López\", 90, \"Femenino\", \"12340\")\n",
    "doctor1 = Doctor(\"Dr. Martínez\", 20, \"Masculino\", \"Cardiología\")\n",
    "consulta1 = ConsultaMedica(doctor1, paciente1, \"10-08-2023\")"
   ]
  },
  {
   "cell_type": "code",
   "execution_count": 4,
   "metadata": {},
   "outputs": [],
   "source": [
    "# Crear objetos\n",
    "paciente2 = Paciente(\"Luis Murcia\", 18, \"Masculino\", \"12347\")\n",
    "doctor1 = Doctor(\"Dr. Martínez\", 20, \"Masculino\", \"Cardiología\")\n",
    "consulta2 = ConsultaMedica(doctor1, paciente2, \"10-09-2023\")"
   ]
  },
  {
   "cell_type": "code",
   "execution_count": 5,
   "metadata": {},
   "outputs": [
    {
     "name": "stdout",
     "output_type": "stream",
     "text": [
      "La historia clínica 12347 ya existe en el hospital.\n"
     ]
    }
   ],
   "source": [
    "paciente3 = Paciente(\"Manuela Perez\", 11, \"Femenino\", \"12347\")"
   ]
  },
  {
   "cell_type": "code",
   "execution_count": 6,
   "metadata": {},
   "outputs": [
    {
     "name": "stdout",
     "output_type": "stream",
     "text": [
      "Total de pacientes en el hospital: 2\n"
     ]
    }
   ],
   "source": [
    "# Mostrar total de pacientes en el hospital\n",
    "print(f\"Total de pacientes en el hospital: {hospital1.totalGeneral()}\")"
   ]
  },
  {
   "cell_type": "code",
   "execution_count": 7,
   "metadata": {},
   "outputs": [
    {
     "name": "stdout",
     "output_type": "stream",
     "text": [
      "Información de la Consulta:\n",
      "Fecha: 10-09-2023\n",
      "Doctor:\n",
      "Especialidad: Cardiología\n",
      "Nombre: Dr. Martínez\n",
      "Edad: 20\n",
      "Género: Masculino\n",
      "Paciente:\n",
      "Nombre: Luis Murcia\n",
      "Edad: 18\n",
      "Género: Masculino\n",
      "Historia Clínica: 12347\n"
     ]
    }
   ],
   "source": [
    "# Mostrar información de la consulta\n",
    "print(\"Información de la Consulta:\")\n",
    "print(consulta2.informacionConsulta())"
   ]
  },
  {
   "cell_type": "code",
   "execution_count": 8,
   "metadata": {},
   "outputs": [
    {
     "name": "stdout",
     "output_type": "stream",
     "text": [
      "Nombre: Ana López\n",
      "Edad: 90\n",
      "Género: Femenino\n",
      "Historia Clínica: 12340\n",
      "------------------\n",
      "Nombre: Luis Murcia\n",
      "Edad: 18\n",
      "Género: Masculino\n",
      "Historia Clínica: 12347\n",
      "------------------\n"
     ]
    }
   ],
   "source": [
    "Hospital.imprimirPacientes()"
   ]
  }
 ],
 "metadata": {
  "kernelspec": {
   "display_name": "Python 3",
   "language": "python",
   "name": "python3"
  },
  "language_info": {
   "codemirror_mode": {
    "name": "ipython",
    "version": 3
   },
   "file_extension": ".py",
   "mimetype": "text/x-python",
   "name": "python",
   "nbconvert_exporter": "python",
   "pygments_lexer": "ipython3",
   "version": "3.10.7"
  },
  "orig_nbformat": 4
 },
 "nbformat": 4,
 "nbformat_minor": 2
}
