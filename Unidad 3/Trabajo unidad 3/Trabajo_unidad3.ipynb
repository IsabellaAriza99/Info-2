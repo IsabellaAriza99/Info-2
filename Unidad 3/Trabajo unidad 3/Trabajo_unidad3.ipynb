{
 "cells": [
  {
   "cell_type": "markdown",
   "metadata": {},
   "source": [
    "\n",
    "<p align=\"center\"><img alt=\"udeA logo\" height=\"150px\" src=\"https://github.com/freddyduitama/images/blob/master/logo.png?raw=true\"></p><h1><font color='0B5345'> <center>\n",
    "\n",
    "Informática II\n",
    "\n",
    " </center></font></h1>\n",
    "<h2><font color='0B5345'> <center>\n",
    "Trabajo 1: Informática médica</center></font></h2>\n",
    "<font  face=\"Courier New\" size=\"3\">\n",
    "\n",
    "<p3><center><b><font color='0B5345' face=\"Lucida Calligraphy,Comic Sans MS,Lucida Console\" size=\"5\">Universidad de Antioquia - Bioingeniería</font></b> </center></p3>"
   ]
  },
  {
   "cell_type": "markdown",
   "metadata": {},
   "source": [
    "En el ámbito de la investigación clínica, la gestión de imágenes médicas y su correspondiente metadata es fundamental para garantizar tanto la integridad del proceso investigativo como la privacidad de los pacientes. Las imágenes DICOM, que contienen datos detallados tanto clínicos como personales, requieren un manejo cuidadoso para evitar la divulgación de información identificable. \n",
    "\n",
    "Este proyecto tiene como objetivo desarrollar un sistema en Python que no solo gestione y anonimice estas imágenes, sino que también proporcione una estructura organizativa que identifique y catalogue imágenes de acuerdo a los pacientes y sus respectivos estudios médicos.\n",
    "\n"
   ]
  },
  {
   "cell_type": "markdown",
   "metadata": {},
   "source": [
    "**Objetivo General:** Implementar un sistema basado en programación orientada a objetos para la gestión avanzada de imágenes DICOM, que incluya funcionalidades para agregar estudios a pacientes existentes, realizar consultas específicas, anonimizar estudios, convertir imágenes a formato NIfTI y manejar eficientemente la eliminación de estudios.\n",
    "\n",
    "1. **Desarrollo de clases:**\n",
    "   - Crear un programa que gestione la identificación única de pacientes y almacene sus estudios DICOM. Deberá detectar si un estudio pertenece a un nuevo paciente o a uno ya registrado, por medio del ID.\n",
    "   - Implementar métodos para añadir, consultar y eliminar estudios, además de convertir imágenes DICOM a formato NIfTI.\n",
    "\n",
    "2. **Sistema de consulta y reporte:**\n",
    "   - Desarrollar funciones que permitan realizar consultas sobre los pacientes registrados y la cantidad de estudios que poseen, así como obtener detalles específicos de un estudio seleccionado, por medio del ID del paciente.\n",
    "   - Incluir la capacidad de visualizar tanto las imágenes usando nilearn, como la información de los estudios (Fecha, modalidad, Descripción, dimensiones de la imagen) de un paciente específico y gestionar la eliminación de estudios.\n",
    "   - Para la visualización con nilearn se debe poder elegir si se quiere visualizar un solo plano, los tres planos o en mosaico.\n",
    "\n",
    "3. **Integración de anonimización y conversión de formatos:**\n",
    "   - Integrar herramientas para la anonimización de estudios DICOM, asegurando que toda información identificable sea removida.\n",
    "   - Facilitar la conversión de estudios DICOM a formato NIfTI para su uso en aplicaciones de análisis de imágenes más avanzadas."
   ]
  },
  {
   "cell_type": "markdown",
   "metadata": {},
   "source": [
    "**Metodología:**\n",
    "- **Diagrama de clases:** Realizar las abstracción del problema y realizar el diagrama de clase asociado, incluya encapsulación, atributos y todos los métodos a utilizar.\n",
    "- **Diseño de clases:** Utilizar la programación orientada a objetos para diseñar clases que encapsulen las funcionalidades necesarias, promoviendo la reutilización del código y la fácil mantenibilidad.\n",
    "- **Pruebas de funcionalidad:** Realizar pruebas para cada funcionalidad implementada, para asegurar que el sistema funcione correctamente bajo diferentes escenarios.\n",
    "- **Documentación:** Producir documentación completa del sistema."
   ]
  },
  {
   "cell_type": "markdown",
   "metadata": {},
   "source": [
    "Nota: Puede gestionar sus clases de la siguiente manera:\n",
    "\n",
    "- Una clase `Estudio`  que maneje individualmente cada estudio DICOM, incluyendo funcionalidades para anonimizar y convertir formatos.\n",
    "- Una clase `Paciente` que almacene una lista de estudios asociados a un paciente específico.\n",
    "- Una clase `sistemaGestion` que gestione todos los pacientes y proporcione métodos para agregar estudios y consultar información."
   ]
  },
  {
   "cell_type": "markdown",
   "metadata": {},
   "source": [
    "El trabajo se realiza en grupos de 3 integrantes y debe ser entregado vía github, la documentación relacionada al trabajo debe estar consignada en el README del repositorio.\n",
    "\n",
    "Adicionalmente se debe realizar un video de no más de 15 minutos donde expliquen las decisiones tomadas y realicen un ejemplo de implemtación de su programa."
   ]
  },
  {
   "cell_type": "markdown",
   "metadata": {},
   "source": [
    "¡EXITOS!"
   ]
  }
 ],
 "metadata": {
  "kernelspec": {
   "display_name": "Python 3",
   "language": "python",
   "name": "python3"
  },
  "language_info": {
   "codemirror_mode": {
    "name": "ipython",
    "version": 3
   },
   "file_extension": ".py",
   "mimetype": "text/x-python",
   "name": "python",
   "nbconvert_exporter": "python",
   "pygments_lexer": "ipython3",
   "version": "3.12.2"
  }
 },
 "nbformat": 4,
 "nbformat_minor": 2
}
