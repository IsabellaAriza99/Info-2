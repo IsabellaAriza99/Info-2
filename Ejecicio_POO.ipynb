{
 "cells": [
  {
   "cell_type": "markdown",
   "metadata": {},
   "source": [
    "# EJERCICIO DE ABSTRACCIÓN"
   ]
  },
  {
   "cell_type": "markdown",
   "metadata": {},
   "source": [
    "### Clase persona"
   ]
  },
  {
   "cell_type": "code",
   "execution_count": 7,
   "metadata": {},
   "outputs": [],
   "source": [
    "#Creamos la clase Persona\n",
    "class Persona():\n",
    "    #Instanciamos los atribulos\n",
    "    def __init__(self,nombre,cedula,genero):\n",
    "        self.__nombre = nombre\n",
    "        self.__cedula = cedula\n",
    "        self.__genero = genero\n",
    "    #Definimos los métodos\n",
    "    def asignarNombre(self):\n",
    "        self.__nombre = input('Ingrese el nombre de la persona: ')\n",
    "    def asignarCedula(self):\n",
    "        self.__cedula = input('Ingrese la cedula de la persona: ')\n",
    "    def asignarGenero(self):\n",
    "        self.__genero = input('Ingrese el genero de la persona: ') \n",
    "\n",
    "    def verNombre(self):\n",
    "        return f\"El nombre de la persona es {self.__nombre}\"\n",
    "    def verCedula(self):\n",
    "        print(f\"La cédula de la persona es {self.__cedula}\")\n",
    "    def __verGenero(self):\n",
    "        print(f\"El genero de la persona es {self.__genero}\")    \n",
    "\n",
    "    "
   ]
  },
  {
   "cell_type": "code",
   "execution_count": 9,
   "metadata": {},
   "outputs": [],
   "source": [
    "p1 = Persona(\"Isabella\",1152470641,\"Femenino\")"
   ]
  },
  {
   "cell_type": "code",
   "execution_count": 10,
   "metadata": {},
   "outputs": [
    {
     "name": "stdout",
     "output_type": "stream",
     "text": [
      "La cédula de la persona es 1152470641\n"
     ]
    }
   ],
   "source": [
    "p1.verCedula()"
   ]
  },
  {
   "cell_type": "code",
   "execution_count": 11,
   "metadata": {},
   "outputs": [
    {
     "name": "stdout",
     "output_type": "stream",
     "text": [
      "El genero de la persona es Femenino\n"
     ]
    }
   ],
   "source": [
    "p1._Persona__verGenero() #Para acceder a un método privado"
   ]
  },
  {
   "cell_type": "markdown",
   "metadata": {},
   "source": [
    "### Subclase paciente"
   ]
  },
  {
   "cell_type": "code",
   "execution_count": 36,
   "metadata": {},
   "outputs": [],
   "source": [
    "class Paciente(Persona):\n",
    "    def __init__(self,servicio):\n",
    "        self.__servicio = servicio\n",
    "\n",
    "    def asignarServicio(self):\n",
    "        self.__servicio = input('Ingresar el servicio: ')\n",
    "    def verServicio(self):\n",
    "        return self.__servicio"
   ]
  },
  {
   "cell_type": "code",
   "execution_count": 37,
   "metadata": {},
   "outputs": [
    {
     "name": "stdout",
     "output_type": "stream",
     "text": [
      "Cirugia\n",
      "El genero de la persona es Femenino\n"
     ]
    }
   ],
   "source": [
    "p2 = Paciente(\"Urgencias\")\n",
    "p2.asignarServicio()\n",
    "print(p2.verServicio())\n",
    "p2.asignarGenero()\n",
    "p2._Persona__verGenero()\n"
   ]
  },
  {
   "cell_type": "markdown",
   "metadata": {},
   "source": [
    "### Subclase empleadoHospital"
   ]
  },
  {
   "cell_type": "code",
   "execution_count": 38,
   "metadata": {},
   "outputs": [],
   "source": [
    "class empleadoHospital(Persona):\n",
    "    def __init__(self,turno):\n",
    "        self.__turno = turno\n",
    "\n",
    "    def asignarTurno(self):\n",
    "        self.__turno = input('Ingresar el Turno: ')\n",
    "    def verTurno(self):\n",
    "        return self.__turno"
   ]
  },
  {
   "cell_type": "code",
   "execution_count": 39,
   "metadata": {},
   "outputs": [
    {
     "name": "stdout",
     "output_type": "stream",
     "text": [
      "La cédula de la persona es 1234567\n"
     ]
    },
    {
     "data": {
      "text/plain": [
       "'7-19'"
      ]
     },
     "execution_count": 39,
     "metadata": {},
     "output_type": "execute_result"
    }
   ],
   "source": [
    "p3=empleadoHospital(\"7-19\")\n",
    "p3.asignarCedula()\n",
    "p3.verCedula()\n",
    "p3.asignarTurno()\n",
    "p3.verTurno()"
   ]
  },
  {
   "cell_type": "markdown",
   "metadata": {},
   "source": [
    "### Subclase enfermera"
   ]
  },
  {
   "cell_type": "code",
   "execution_count": 40,
   "metadata": {},
   "outputs": [],
   "source": [
    "class Enfermera(empleadoHospital):\n",
    "    def __init__(self,rango):\n",
    "        self.__rango = rango\n",
    "\n",
    "    def asignarRango(self):\n",
    "        self.__rango = input('Ingresar el rango: ')\n",
    "    def verRango(self):\n",
    "        return self.__rango"
   ]
  },
  {
   "cell_type": "code",
   "execution_count": 41,
   "metadata": {},
   "outputs": [
    {
     "name": "stdout",
     "output_type": "stream",
     "text": [
      "La cédula de la persona es 12345678\n",
      "7-19\n",
      "Jefe\n"
     ]
    }
   ],
   "source": [
    "p3=Enfermera(\"Jefe\")\n",
    "p3.asignarCedula()\n",
    "p3.verCedula()\n",
    "p3.asignarTurno()\n",
    "print(p3.verTurno())\n",
    "p3.asignarRango()\n",
    "print(p3.verRango())"
   ]
  },
  {
   "cell_type": "markdown",
   "metadata": {},
   "source": [
    "### Subclase Medico"
   ]
  },
  {
   "cell_type": "code",
   "execution_count": 42,
   "metadata": {},
   "outputs": [],
   "source": [
    "class Medico(empleadoHospital):\n",
    "    def __init__(self,especialidad):\n",
    "        self.__especialidad = especialidad\n",
    "\n",
    "    def asignarEspecialidad(self):\n",
    "        self.__especialidad = input('Ingresar la especialidad: ')\n",
    "    def verEspecialidad(self):\n",
    "        return self.__especialidad"
   ]
  },
  {
   "cell_type": "code",
   "execution_count": 43,
   "metadata": {},
   "outputs": [
    {
     "name": "stdout",
     "output_type": "stream",
     "text": [
      "La cédula de la persona es 12345678\n",
      "7-19\n",
      "Cirujano\n"
     ]
    }
   ],
   "source": [
    "p4=Medico(\"Cirujano\")\n",
    "p4.asignarCedula()\n",
    "p4.verCedula()\n",
    "p4.asignarTurno()\n",
    "print(p4.verTurno())\n",
    "p4.asignarEspecialidad()\n",
    "print(p4.verEspecialidad())"
   ]
  }
 ],
 "metadata": {
  "kernelspec": {
   "display_name": "Python 3",
   "language": "python",
   "name": "python3"
  },
  "language_info": {
   "codemirror_mode": {
    "name": "ipython",
    "version": 3
   },
   "file_extension": ".py",
   "mimetype": "text/x-python",
   "name": "python",
   "nbconvert_exporter": "python",
   "pygments_lexer": "ipython3",
   "version": "3.10.7"
  },
  "orig_nbformat": 4
 },
 "nbformat": 4,
 "nbformat_minor": 2
}
